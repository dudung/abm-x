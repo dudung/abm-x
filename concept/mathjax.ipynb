
{
 "metadata": {
  "name": "Typesetting Math Using MathJax"
 },
 "nbformat": 3,
 "nbformat_minor": 0,
 "worksheets": [
  {
   "cells": [
    {
     "cell_type": "markdown",
     "metadata": {},
     "source": [
      "# MathJax",
      "\\begin{equation}",
      "\\dot{z} & = -\\beta z + xy",
      "\\end{equation}",
      "This is very good."
     ]
    }
   ],
   "metadata": {}
  }
 ]
}
