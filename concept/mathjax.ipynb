
{
 "metadata": {
  "name": "Typesetting Math Using MathJax"
 },
 "nbformat": 3,
 "nbformat_minor": 0,
 "worksheets": [
  {
   "cells": [
    {
     "cell_type": "markdown",
     "metadata": {},
     "source": [
      "The Markdown parser included in IPython is MathJax-aware.  This means that you can freely mix in mathematical expressions using the [MathJax subset of Tex and LaTeX](http://docs.mathjax.org/en/latest/tex.html#tex-support).  [Some examples from the MathJax site](http://www.mathjax.org/demos/tex-samples/) are reproduced below, as well as the Markdown+TeX source."
     ]
    },
    {
     "cell_type": "markdown",
     "metadata": {},
     "source": [
      "# Motivating Examples\n",
      "\n",
      "---\n",
      "\n",
      "## The Lorenz Equations\n",
      "### Source\n",
      "```\\begin{aligned}\n",
      "\\dot{x} & = \\sigma(y-x) \\\\\n",
      "\\dot{y} & = \\rho x - y - xz \\\\\n",
      "\\dot{z} & = -\\beta z + xy\n",
      "\\end{aligned}\n",
      "```\n",
      "### Display\n",
      "\\begin{aligned}\n",
      "\\dot{x} & = \\sigma(y-x) \\\\\n",
      "\\dot{y} & = \\rho x - y - xz \\\\\n",
      "\\dot{z} & = -\\beta z + xy\n",
      "\\end{aligned}"
     ]
    },
    {
     "cell_type": "markdown",
     "metadata": {},
     "source": [
      "## The Cauchy-Schwarz Inequality\n",
      "### Source\n",
      "```\\begin{equation*}\n",
      "\\left( \\sum_{k=1}^n a_k b_k \\right)^2 \\leq \\left( \\sum_{k=1}^n a_k^2 \\right) \\left( \\sum_{k=1}^n b_k^2 \\right)\n",
      "\\end{equation*}\n",
      "```\n",
      "### Display\n",
      "\\begin{equation*}\n",
      "\\left( \\sum_{k=1}^n a_k b_k \\right)^2 \\leq \\left( \\sum_{k=1}^n a_k^2 \\right) \\left( \\sum_{k=1}^n b_k^2 \\right)\n",
      "\\end{equation*}"
     ]
    },
    {
     "cell_type": "markdown",
     "metadata": {},
     "source": [
      "## A Cross Product Formula\n",
      "### Source\n",
      "```\\begin{equation*}\n",
      "\\mathbf{V}_1 \\times \\mathbf{V}_2 =  \\begin{vmatrix}\n",
      "\\mathbf{i} & \\mathbf{j} & \\mathbf{k} \\\\\n",
      "\\frac{\\partial X}{\\partial u} &  \\frac{\\partial Y}{\\partial u} & 0 \\\\\n",
      "\\frac{\\partial X}{\\partial v} &  \\frac{\\partial Y}{\\partial v} & 0\n",
      "\\end{vmatrix}  \n",
      "\\end{equation*}\n",
      "```\n",
      "### Display\n",
      "\\begin{equation*}\n",
      "\\mathbf{V}_1 \\times \\mathbf{V}_2 =  \\begin{vmatrix}\n",
      "\\mathbf{i} & \\mathbf{j} & \\mathbf{k} \\\\\n",
      "\\frac{\\partial X}{\\partial u} &  \\frac{\\partial Y}{\\partial u} & 0 \\\\\n",
      "\\frac{\\partial X}{\\partial v} &  \\frac{\\partial Y}{\\partial v} & 0\n",
      "\\end{vmatrix}  \n",
      "\\end{equation*}"
     ]
    },
    {
     "cell_type": "markdown",
     "metadata": {},
     "source": [
      "## The probability of getting \\(k\\) heads when flipping \\(n\\) coins is\n",
      "### Source\n",
      "```\\begin{equation*}\n",
      "P(E)   = {n \\choose k} p^k (1-p)^{ n-k} \n",
      "\\end{equation*}\n",
      "```\n",
      "### Display\n",
      "\\begin{equation*}\n",
      "P(E)   = {n \\choose k} p^k (1-p)^{ n-k} \n",
      "\\end{equation*}"
     ]
    },
    {
     "cell_type": "markdown",
     "metadata": {},
     "source": [
      "## An Identity of Ramanujan\n",
      "### Source\n",
      "```\\begin{equation*}\n",
      "\\frac{1}{\\Bigl(\\sqrt{\\phi \\sqrt{5}}-\\phi\\Bigr) e^{\\frac25 \\pi}} =\n",
      "1+\\frac{e^{-2\\pi}} {1+\\frac{e^{-4\\pi}} {1+\\frac{e^{-6\\pi}}\n",
      "{1+\\frac{e^{-8\\pi}} {1+\\ldots} } } } \n",
      "\\end{equation*}\n",
      "```\n",
      "### Display\n",
      "\\begin{equation*}\n",
      "\\frac{1}{\\Bigl(\\sqrt{\\phi \\sqrt{5}}-\\phi\\Bigr) e^{\\frac25 \\pi}} =\n",
      "1+\\frac{e^{-2\\pi}} {1+\\frac{e^{-4\\pi}} {1+\\frac{e^{-6\\pi}}\n",
      "{1+\\frac{e^{-8\\pi}} {1+\\ldots} } } } \n",
      "\\end{equation*}"
     ]
    },
   ],
   "metadata": {}
  }
 ]
}
