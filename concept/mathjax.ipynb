
{
 "metadata": {
  "name": "Typesetting Math Using MathJax"
 },
 "nbformat": 3,
 "nbformat_minor": 0,
 "worksheets": [
  {
   "cells": [
    {
     "cell_type": "markdown",
     "metadata": {},
     "source": [
      "# MathJax",
      "\\begin{aligned}",
      "\\dot{x} & = \\sigma(y-x) \\\\",
      "\\dot{y} & = \\rho x - y - xz \\\\",
      "\\dot{z} & = -\\beta z + xy",
      "\\end{aligned}",
      "This is very good."
     ]
    }
   ],
   "metadata": {}
  }
 ]
}
