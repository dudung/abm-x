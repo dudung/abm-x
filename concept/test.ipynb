{
"metadata": {
  "name": "Typesetting Math Using MathJax"
 },
 "nbformat": 3,
 "nbformat_minor": 0,
 "worksheets": [
  {
   "cells": [
    {
     "cell_type": "markdown",
     "metadata": {},
     "source": [
      "# MathJax",
      "\\begin{equation*}",
      "y = ax^2 + bx + c",
      "\\end{equation*}",
      "This is very good."
     ]
    }
   ]
  }
 ]
}
