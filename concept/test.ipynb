{
"metadata": {
  "name": "Typesetting Math Using MathJax"
 },
 "worksheets": [
  {
   "cells": [
    {
     "cell_type": "markdown",
     "metadata": {},
     "source": [
      "# MathJax",
      "\\begin{equation*}",
      "y = ax^2 + bx + c",
      "\\end{equation*}",
      "This is very good."
     ]
    }
   ]
  }
 ]
}
