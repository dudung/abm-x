{
"metadata": {
  "name": "Typesetting Math Using MathJax"
 },
 "nbformat": 3,
 "nbformat_minor": 0,
 "worksheets": [
  {
   "cells": [
    {
     "cell_type": "markdown",
     "metadata": {},
     "source": [
      "# MathJax",
      "Persamaan kuadrat \\(y = f(x)%\\) memiliki bentuk ",
      "sebagai berikut \n",
      "\\begin{equation*}",
      "y = ax^2 + bx + c",
      "\\end{equation*}",
      "This is very good."
     ]
    }
   ]
  }
 ]
}
